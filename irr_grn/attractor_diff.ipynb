{
 "cells": [
  {
   "cell_type": "code",
   "execution_count": 21,
   "metadata": {},
   "outputs": [
    {
     "name": "stderr",
     "output_type": "stream",
     "text": [
      "100%|██████████████████████████████████████████████████████████████████| 10/10 [00:20<00:00,  2.07s/it]\n"
     ]
    }
   ],
   "source": [
    "from tqdm import tqdm\n",
    "import numpy as np\n",
    "np.set_printoptions(threshold=20)\n",
    "#atts,sz = bns.attractors_from_txt('att_reach_simp')\n",
    "#rsnodes = list(np.load('nodes_reach_simp.npy',allow_pickle=True))\n",
    "ps = [0,0.2,0.4,0.6,0.8]\n",
    "ts = ['so','inv']\n",
    "att_sizes = []\n",
    "num_unchanged = []\n",
    "unchanged = []\n",
    "for j in tqdm(range(10)):\n",
    "    for p in ps:\n",
    "        for t in ts:\n",
    "            fo=open('att_newneg2_'+str(p)+'_'+t+'_'+str(j)+'.txt',encoding='utf-8') #read texts\n",
    "            lines=fo.readlines()\n",
    "            for i in range(len(lines)):\n",
    "                line = lines[i]\n",
    "                if 'Attractor number' in line:\n",
    "                    #att_sizes.append(line.split(':')[-1].strip())\n",
    "                    att_size = int(line.split(':')[-1].strip())\n",
    "                    if att_size != 1:\n",
    "                        att = []\n",
    "                        for k in range(1,att_size+1):\n",
    "                            state = [int(x) for x in list(lines[i-k].strip())]\n",
    "                            att.append(state)\n",
    "                        att = np.array(att)\n",
    "                        sub = np.array([att[x,:]-att[x+1,:] for x in np.arange(-1,att_size-1,1)])\n",
    "                        u=np.where(~sub.any(axis=0))[0]\n",
    "                        unchanged.append(u)\n",
    "                        num_unchanged.append(len(u))\n",
    "                        \n"
   ]
  },
  {
   "cell_type": "code",
   "execution_count": 28,
   "metadata": {},
   "outputs": [
    {
     "data": {
      "text/plain": [
       "75.0"
      ]
     },
     "execution_count": 28,
     "metadata": {},
     "output_type": "execute_result"
    }
   ],
   "source": [
    "np.median(num_unchanged)"
   ]
  },
  {
   "cell_type": "code",
   "execution_count": 27,
   "metadata": {},
   "outputs": [
    {
     "name": "stdout",
     "output_type": "stream",
     "text": [
      "15\n"
     ]
    }
   ],
   "source": [
    "unchanged[0]\n",
    "setlist = [set(unchanged[i]) for i in range(len(unchanged))]\n",
    "u = set.intersection(*setlist)\n",
    "print(len(u))"
   ]
  },
  {
   "cell_type": "code",
   "execution_count": 32,
   "metadata": {},
   "outputs": [
    {
     "data": {
      "text/plain": [
       "array([ 83554,  97412, 105206, ...,  93856,  27800, 105224])"
      ]
     },
     "execution_count": 32,
     "metadata": {},
     "output_type": "execute_result"
    }
   ],
   "source": [
    "unchanged_flat = np.concatenate(unchanged).ravel()\n",
    "unique, counts = np.unique(unchanged_flat, return_counts=True)\n"
   ]
  },
  {
   "cell_type": "code",
   "execution_count": 42,
   "metadata": {},
   "outputs": [
    {
     "data": {
      "text/plain": [
       "['adiY',\n",
       " 'aidB',\n",
       " 'araC',\n",
       " 'arcA',\n",
       " 'argP',\n",
       " 'asnC',\n",
       " 'betI',\n",
       " 'bglJ',\n",
       " 'cadC',\n",
       " 'cra',\n",
       " 'crp',\n",
       " 'csgD',\n",
       " 'cspA',\n",
       " 'cusR',\n",
       " 'dcuR',\n",
       " 'dnaA',\n",
       " 'dpiA',\n",
       " 'evgA',\n",
       " 'exuR',\n",
       " 'fhlA',\n",
       " 'fis',\n",
       " 'flhC',\n",
       " 'flhD',\n",
       " 'fliZ',\n",
       " 'fnr',\n",
       " 'fucR',\n",
       " 'fur',\n",
       " 'gadE',\n",
       " 'gadW',\n",
       " 'gadX',\n",
       " 'galR',\n",
       " 'galS',\n",
       " 'glcC',\n",
       " 'glnG',\n",
       " 'gutM',\n",
       " 'hdfR',\n",
       " 'hns',\n",
       " 'hyfR',\n",
       " 'idnR',\n",
       " 'leuO',\n",
       " 'lldR',\n",
       " 'lrp',\n",
       " 'lsrR',\n",
       " 'malI',\n",
       " 'marA',\n",
       " 'marR',\n",
       " 'mazE',\n",
       " 'mazF',\n",
       " 'melR',\n",
       " 'metJ',\n",
       " 'metR',\n",
       " 'mlc',\n",
       " 'mlrA',\n",
       " 'mraZ',\n",
       " 'nac',\n",
       " 'narL',\n",
       " 'nhaR',\n",
       " 'nikR',\n",
       " 'ompR',\n",
       " 'oxyR',\n",
       " 'pdeL',\n",
       " 'pdhR',\n",
       " 'phoB',\n",
       " 'prpR',\n",
       " 'ptsG',\n",
       " 'purR',\n",
       " 'putA',\n",
       " 'puuR',\n",
       " 'rbsR',\n",
       " 'rcsA',\n",
       " 'rcsB',\n",
       " 'rhaR',\n",
       " 'rhaS',\n",
       " 'rob',\n",
       " 'soxR',\n",
       " 'soxS',\n",
       " 'srlR',\n",
       " 'stpA',\n",
       " 'tdcA',\n",
       " 'uxuR',\n",
       " 'xylR',\n",
       " 'ydeO',\n",
       " 'yeiL',\n",
       " 'yiaJ',\n",
       " 'yjjQ',\n",
       " 'yqjI',\n",
       " 'zraR']"
      ]
     },
     "execution_count": 42,
     "metadata": {},
     "output_type": "execute_result"
    }
   ],
   "source": [
    "#import bns\n",
    "import numpy as np\n",
    "import networkx as nx\n",
    "#G_rs = nx.read_gml('reach_simp.gml')\n",
    "G_rs2 = nx.read_gml('rs2.gml')\n",
    "nodes = sorted(list(G_rs2.nodes()))\n",
    "nodes"
   ]
  },
  {
   "cell_type": "code",
   "execution_count": 45,
   "metadata": {
    "scrolled": true
   },
   "outputs": [
    {
     "ename": "TypeError",
     "evalue": "bad operand type for unary -: 'str'",
     "output_type": "error",
     "traceback": [
      "\u001b[0;31m---------------------------------------------------------------------------\u001b[0m",
      "\u001b[0;31mTypeError\u001b[0m                                 Traceback (most recent call last)",
      "Cell \u001b[0;32mIn[45], line 1\u001b[0m\n\u001b[0;32m----> 1\u001b[0m \u001b[38;5;28;43msorted\u001b[39;49m\u001b[43m(\u001b[49m\u001b[38;5;28;43mdict\u001b[39;49m\u001b[43m(\u001b[49m\u001b[38;5;28;43mzip\u001b[39;49m\u001b[43m(\u001b[49m\u001b[43m[\u001b[49m\u001b[43mnodes\u001b[49m\u001b[43m[\u001b[49m\u001b[43mu\u001b[49m\u001b[43m]\u001b[49m\u001b[43m \u001b[49m\u001b[38;5;28;43;01mfor\u001b[39;49;00m\u001b[43m \u001b[49m\u001b[43mu\u001b[49m\u001b[43m \u001b[49m\u001b[38;5;129;43;01min\u001b[39;49;00m\u001b[43m \u001b[49m\u001b[43munique\u001b[49m\u001b[43m]\u001b[49m\u001b[43m,\u001b[49m\u001b[43mcounts\u001b[49m\u001b[38;5;241;43m/\u001b[39;49m\u001b[38;5;28;43mlen\u001b[39;49m\u001b[43m(\u001b[49m\u001b[43munchanged\u001b[49m\u001b[43m)\u001b[49m\u001b[43m)\u001b[49m\u001b[43m)\u001b[49m\u001b[43m,\u001b[49m\u001b[43mkey\u001b[49m\u001b[38;5;241;43m=\u001b[39;49m\u001b[38;5;28;43;01mlambda\u001b[39;49;00m\u001b[43m \u001b[49m\u001b[43melem\u001b[49m\u001b[43m:\u001b[49m\u001b[38;5;241;43m-\u001b[39;49m\u001b[43melem\u001b[49m\u001b[43m[\u001b[49m\u001b[38;5;241;43m1\u001b[39;49m\u001b[43m]\u001b[49m\u001b[43m)\u001b[49m\n",
      "Cell \u001b[0;32mIn[45], line 1\u001b[0m, in \u001b[0;36m<lambda>\u001b[0;34m(elem)\u001b[0m\n\u001b[0;32m----> 1\u001b[0m \u001b[38;5;28msorted\u001b[39m(\u001b[38;5;28mdict\u001b[39m(\u001b[38;5;28mzip\u001b[39m([nodes[u] \u001b[38;5;28;01mfor\u001b[39;00m u \u001b[38;5;129;01min\u001b[39;00m unique],counts\u001b[38;5;241m/\u001b[39m\u001b[38;5;28mlen\u001b[39m(unchanged))),key\u001b[38;5;241m=\u001b[39m\u001b[38;5;28;01mlambda\u001b[39;00m elem:\u001b[38;5;241;43m-\u001b[39;49m\u001b[43melem\u001b[49m\u001b[43m[\u001b[49m\u001b[38;5;241;43m1\u001b[39;49m\u001b[43m]\u001b[49m)\n",
      "\u001b[0;31mTypeError\u001b[0m: bad operand type for unary -: 'str'"
     ]
    }
   ],
   "source": [
    "sorted(dict(zip([nodes[u] for u in unique],counts/len(unchanged))),key=lambda elem:-elem[1])"
   ]
  },
  {
   "cell_type": "code",
   "execution_count": null,
   "metadata": {},
   "outputs": [],
   "source": []
  },
  {
   "cell_type": "code",
   "execution_count": 39,
   "metadata": {},
   "outputs": [
    {
     "name": "stdout",
     "output_type": "stream",
     "text": [
      "0.8452806972929561\n"
     ]
    },
    {
     "data": {
      "image/png": "[encoded data removed]",
      "text/plain": [
       "<Figure size 640x480 with 1 Axes>"
      ]
     },
     "metadata": {},
     "output_type": "display_data"
    }
   ],
   "source": [
    "\n",
    "import numpy as np\n",
    "import math\n",
    "from matplotlib import pyplot as plt\n",
    "\n",
    "data = counts/len(unchanged)\n",
    "print(np.mean(data))\n",
    "\n",
    "bins = np.linspace(min(data), \n",
    "                   max(data),\n",
    "                   20) # fixed number of bins\n",
    "\n",
    "#plt.xlim([min(data)-0.1, max(data)+0.1])\n",
    "\n",
    "plt.hist(data, bins=bins, alpha=0.5)\n",
    "#plt.title('')\n",
    "plt.xlabel('probability of being fixed')\n",
    "plt.ylabel('number of nodes')\n",
    "\n",
    "plt.show()"
   ]
  },
  {
   "cell_type": "code",
   "execution_count": 15,
   "metadata": {},
   "outputs": [],
   "source": [
    "for t in ts:\n",
    "    fo=open('att_newneg2_'+'f'+'_'+t+'.txt',encoding='utf-8') #read texts\n",
    "    lines=fo.readlines()\n",
    "    for line in lines:\n",
    "        if 'Attractor number' in line:\n",
    "            att_sizes.append(line.split(':')[-1].strip())       "
   ]
  },
  {
   "cell_type": "code",
   "execution_count": 16,
   "metadata": {},
   "outputs": [
    {
     "data": {
      "text/plain": [
       "162608"
      ]
     },
     "execution_count": 16,
     "metadata": {},
     "output_type": "execute_result"
    }
   ],
   "source": [
    "len(att_sizes)"
   ]
  },
  {
   "cell_type": "code",
   "execution_count": 17,
   "metadata": {},
   "outputs": [
    {
     "data": {
      "text/plain": [
       "Counter({'4': 86712,\n",
       "         '20': 448,\n",
       "         '12': 2512,\n",
       "         '1': 57304,\n",
       "         '2': 8160,\n",
       "         '6': 1824,\n",
       "         '3': 1620,\n",
       "         '5': 3988,\n",
       "         '7': 16,\n",
       "         '10': 24})"
      ]
     },
     "execution_count": 17,
     "metadata": {},
     "output_type": "execute_result"
    }
   ],
   "source": [
    "from collections import Counter\n",
    "Counter(att_sizes)"
   ]
  },
  {
   "cell_type": "code",
   "execution_count": 1,
   "metadata": {},
   "outputs": [
    {
     "name": "stdout",
     "output_type": "stream",
     "text": [
      "295120\n",
      "295120\n"
     ]
    }
   ],
   "source": [
    "import bns\n",
    "import numpy as np\n",
    "import networkx as nx\n",
    "G_rs = nx.read_gml('reach_simp.gml')\n",
    "G_rs2 = nx.read_gml('rs2.gml')\n",
    "np.set_printoptions(threshold=20)\n",
    "attrs,sz = bns.attractors_from_txt('atts_rs')\n",
    "print(len(attrs))\n",
    "attrs2,sz = bns.attractors_from_txt('atts_rs2')\n",
    "print(len(attrs2))\n"
   ]
  },
  {
   "cell_type": "code",
   "execution_count": 25,
   "metadata": {},
   "outputs": [
    {
     "name": "stdout",
     "output_type": "stream",
     "text": [
      "['adiY', 'aidB', 'araC', 'arcA', 'argP', 'asnC', 'betI', 'bglJ', 'cadC', 'cra', 'crp', 'csgD', 'cspA', 'cusR', 'dcuR', 'dnaA', 'dpiA', 'evgA', 'exuR', 'fhlA', 'fis', 'flhC', 'flhD', 'fliZ', 'fnr', 'fucR', 'fur', 'gadE', 'gadW', 'gadX', 'galR', 'galS', 'glcC', 'glnG', 'gutM', 'hdfR', 'hns', 'hyfR', 'idnR', 'leuO', 'lldR', 'lrp', 'lsrR', 'malI', 'marA', 'marR', 'mazE', 'mazF', 'melR', 'metJ', 'metR', 'mlc', 'mlrA', 'mraZ', 'nac', 'narL', 'nhaR', 'nikR', 'ompR', 'oxyR', 'pdeL', 'pdhR', 'phoB', 'prpR', 'ptsG', 'purR', 'putA', 'puuR', 'rbsR', 'rcsA', 'rcsB', 'rhaR', 'rhaS', 'rob', 'soxR', 'soxS', 'srlR', 'stpA', 'tdcA', 'uxuR', 'xylR', 'ydeO', 'yeiL', 'yiaJ', 'yjjQ', 'yqjI', 'zraR']\n",
      "['aidB', 'arcA', 'asnC', 'cadC', 'exuR', 'fnr', 'fur', 'galR', 'hyfR', 'leuO', 'lldR', 'lrp', 'metJ', 'metR', 'mlc', 'mraZ', 'narL', 'purR', 'rob', 'soxR', 'ydeO', 'yiaJ', 'yqjI']\n"
     ]
    }
   ],
   "source": [
    "mobile = sorted(G_rs2.nodes())\n",
    "print(mobile)\n",
    "for i in range(87):\n",
    "    for j in range(len(attrs2)):\n",
    "        att_i = set(np.array(attrs2[j])[:,i])\n",
    "        \n",
    "        #if att_i == {0}:\n",
    "            #static0.append(sorted(G_rs2.nodes())[i])\n",
    "        #if att_i == {1}:\n",
    "            #static1.append(sorted(G_rs2.nodes())[i])\n",
    "        if att_i != {0,1}:\n",
    "            mobile.remove(sorted(G_rs2.nodes())[i])\n",
    "            break\n",
    "            \n",
    "print(mobile)"
   ]
  },
  {
   "cell_type": "code",
   "execution_count": 34,
   "metadata": {},
   "outputs": [
    {
     "name": "stdout",
     "output_type": "stream",
     "text": [
      "23\n",
      "['arcA', 'asnC', 'exuR', 'fnr', 'fur', 'galR', 'mlc', 'mraZ', 'rob', 'soxR', 'ydeO', 'yiaJ']\n",
      "['arcA', 'argP', 'asnC', 'bglJ', 'cra', 'crp', 'cspA', 'exuR', 'fis', 'fnr', 'fur', 'gadW', 'gadX', 'galR', 'galS', 'glnG', 'hns', 'marA', 'marR', 'mazE', 'mazF', 'mlc', 'mraZ', 'nac', 'oxyR', 'pdhR', 'phoB', 'ptsG', 'rcsA', 'rcsB', 'rhaR', 'rhaS', 'rob', 'soxR', 'soxS', 'srlR', 'uxuR', 'ydeO', 'yiaJ']\n"
     ]
    }
   ],
   "source": [
    "print(len(mobile))\n",
    "import csv\n",
    "f = open('results_reach.csv','r',encoding='utf-8')\n",
    "reader = csv.reader(f)\n",
    "result = list(reader)\n",
    "#print(scc1_expanded)\n",
    "\n",
    "#print(G_rs1.nodes())\n",
    "print(sorted(list(set(result[0][:39])&set(mobile))))\n",
    "print(sorted(result[0][:39]))"
   ]
  },
  {
   "cell_type": "code",
   "execution_count": 11,
   "metadata": {},
   "outputs": [
    {
     "name": "stdout",
     "output_type": "stream",
     "text": [
      "{'uxuR', 'fis', 'pdeL', 'fucR', 'metJ', 'metR', 'prpR', 'csgD', 'narL', 'nac', 'rbsR', 'melR', 'gadX', 'soxR', 'exuR', 'mazF', 'gutM', 'dcuR', 'crp', 'mazE', 'cspA', 'bglJ', 'aidB', 'cadC', 'nikR', 'dnaA', 'putA', 'fhlA', 'pdhR', 'marR', 'rhaS', 'rcsB', 'srlR', 'flhD', 'yeiL', 'hns', 'zraR', 'flhC', 'mraZ', 'marA', 'soxS', 'galS', 'hdfR', 'asnC', 'yqjI', 'malI', 'lrp', 'glnG', 'purR', 'arcA', 'hyfR', 'nhaR', 'yjjQ', 'evgA', 'gadE', 'oxyR', 'fliZ', 'argP', 'mlc', 'lsrR', 'araC', 'leuO', 'gadW', 'betI', 'glcC', 'rhaR', 'cra', 'idnR', 'puuR', 'lldR', 'ydeO', 'ptsG', 'mlrA', 'galR', 'yiaJ', 'dpiA', 'tdcA', 'fur', 'rob', 'rcsA', 'stpA', 'adiY', 'ompR', 'fnr', 'cusR', 'xylR', 'phoB'}\n",
      "['zraR', 'ptsG', 'gadX', 'rhaR', 'leuO', 'asnC', 'hdfR', 'galR', 'fhlA', 'dnaA', 'metR', 'cusR', 'mlc', 'hns', 'puuR', 'glnG', 'yiaJ', 'ompR', 'putA', 'cadC', 'dcuR', 'rhaS', 'stpA', 'pdhR', 'melR', 'fnr', 'evgA', 'crp', 'csgD', 'araC', 'adiY', 'yqjI', 'cspA', 'malI', 'srlR', 'gadE', 'idnR', 'mraZ', 'pdeL', 'phoB', 'purR', 'soxR', 'arcA', 'xylR', 'fur', 'lrp', 'yjjQ', 'rob', 'prpR', 'fucR', 'fliZ', 'flhD', 'bglJ', 'soxS', 'rcsA', 'tdcA', 'lsrR', 'ydeO', 'flhC', 'mazE', 'rcsB', 'cra', 'uxuR', 'glcC', 'nhaR', 'hyfR', 'metJ', 'mlrA', 'argP', 'oxyR', 'galS', 'gadW', 'yeiL', 'dpiA', 'fis', 'narL', 'nac', 'gutM', 'nikR', 'aidB', 'exuR', 'rbsR', 'marR', 'betI', 'lldR', 'mazF', 'marA']\n",
      "set()\n"
     ]
    }
   ],
   "source": [
    "\n",
    "core = reduced_atts(np.array(attrs2),G_rs2,set(G_rs2.nodes()))\n",
    "core_in_rs = reduced_atts(np.array(attrs),G_rs,G_rs2.nodes())\n",
    "print(core_in_rs ^ core)"
   ]
  },
  {
   "cell_type": "code",
   "execution_count": 7,
   "metadata": {},
   "outputs": [],
   "source": [
    "def get_element_index(ob_list, word_list):\n",
    "    idx_list = []\n",
    "    for word in word_list:\n",
    "        idx = [i for (i, v) in enumerate(ob_list) if v == word]\n",
    "        idx_list+=idx\n",
    "    idx_list = np.array(idx_list)\n",
    "    return idx_list\n",
    "\n",
    "def get_corr_element(ob_list, idx_list):\n",
    "    word_list = []\n",
    "    for word in word_list:    \n",
    "        word = [v for (i, v) in enumerate(ob_list) if i == idx]\n",
    "        word_list+=word\n",
    "    word_list = np.array(word_list)\n",
    "    return word_list\n",
    "def simplify(Graph):\n",
    "    all_nodes = Graph.nodes\n",
    "    simplified_nodes = []\n",
    "    for node in all_nodes:\n",
    "        in_degree = Graph.in_degree(node)\n",
    "        out_degree = Graph.out_degree(node)\n",
    "        if out_degree == 0:\n",
    "            continue\n",
    "        else:\n",
    "            simplified_nodes.append(node)\n",
    "    G_simplified = Graph.subgraph(simplified_nodes)\n",
    "    print(len(simplified_nodes))\n",
    "    return G_simplified, simplified_nodes\n",
    "def reached_by(G,group):\n",
    "    # input: nx.Graph G & group of nodes (list or set)\n",
    "    # output: a list of nodes reaching to the given group starting with the original group\n",
    "    nums_reached = []\n",
    "    nodes_reached = []\n",
    "    set_reached = set()\n",
    "    N = G.number_of_nodes()\n",
    "    nodes = list(G.nodes())\n",
    "    group = list(group)\n",
    "    for j in range(len(group)):\n",
    "        num_reached = N\n",
    "        nodes_reaching_to_j = list(np.array(nodes))\n",
    "        for k in range(N):\n",
    "            try:\n",
    "                length=nx.shortest_path_length(G,source=nodes[k],target=group[j])\n",
    "            except nx.NetworkXNoPath:\n",
    "                num_reached -= 1\n",
    "                nodes_reaching_to_j.remove(nodes[k])\n",
    "                \n",
    "        nums_reached.append(num_reached)\n",
    "        nodes_reached.append(nodes_reaching_to_j)\n",
    "        set_reached = set_reached | set(nodes_reaching_to_j)\n",
    "        \n",
    "    set_reached = set_reached - (set_reached & set(group))\n",
    "    set_reached = list(set_reached)\n",
    "    list_reached = sorted(group + set_reached)\n",
    "    print(len(set_reached))\n",
    "    return list_reached\n",
    "#def expanded_core(G,group):\n",
    "def num_reachable(G,group):\n",
    "    # input: nx.Graph G & group of nodes (list or set)\n",
    "    # output: a list of nodes reaching to the given group starting with the original group\n",
    "    nums_reached = []\n",
    "    nodes_reached = []\n",
    "    set_reached = set()\n",
    "    N = G.number_of_nodes()\n",
    "    nodes = list(G.nodes())\n",
    "    group = list(group)\n",
    "    for j in range(len(group)):\n",
    "        num_reached = N\n",
    "        nodes_reaching_to_j = list(np.array(nodes))\n",
    "        for k in range(N):\n",
    "            try:\n",
    "                length=nx.shortest_path_length(G,source=group[j],target=nodes[k])\n",
    "            except nx.NetworkXNoPath:\n",
    "                num_reached -= 1\n",
    "                \n",
    "                \n",
    "        nums_reached.append(num_reached)\n",
    "        \n",
    "    return nums_reached    \n",
    "def reduced_atts(atts,G,group):\n",
    "    # input: attractor array of [num_atts,len_att,num_nodes], corresponding graph G, group of nodes (list or set)\n",
    "    # output: a list of patterns (str)\n",
    "    group_idx = get_element_index(sorted(list(G.nodes())), sorted(list(group)))\n",
    "    print(group_idx)\n",
    "    atts_group = atts[:,:,group_idx]\n",
    "    atts_group_reduced = set()\n",
    "    for n in range(atts_group.shape[0]):\n",
    "        att = atts_group[n,:,:]\n",
    "        att_set = set()\n",
    "        for m in range(6):\n",
    "            attm = att[m,:]\n",
    "            #print(attm)\n",
    "            attm = list(attm)\n",
    "            attm = [str(i) for i in attm]\n",
    "            attm = ''.join(attm)\n",
    "            att_set.add(attm)\n",
    "        att_set.add(str(len(att_set)))\n",
    "        att_str = ','.join(sorted(list(att_set)))\n",
    "        atts_group_reduced.add(att_str)\n",
    "    return  atts_group_reduced\n",
    "def unique_states(atts,group_idx):\n",
    "    atts_scc0 = atts[:,:,group_idx]\n",
    "    atts_scc0_reshape=np.reshape(atts_scc0,(6*atts_scc0.shape[0],len(group_idx)))\n",
    "    states0 = []\n",
    "    for n in range(atts_scc0_reshape.shape[0]):\n",
    "        state = atts_scc0_reshape[n,cc]\n",
    "\n",
    "        state = list(state)\n",
    "        state = [str(i) for i in state]\n",
    "        state = ''.join(state)\n",
    "\n",
    "        if state not in states0:\n",
    "            states0.append(state)\n",
    "    return states0\n",
    "def delete_unchanging(freq,G,group):\n",
    "    group = list(group)\n",
    "    idx = get_element_index(sorted(list(G.nodes())), sorted(group))\n",
    "    freqs = list(freq[idx])\n",
    "    changing = []\n",
    "    for i in range(len(list(idx))):\n",
    "        if freqs[i] == 0:\n",
    "            continue\n",
    "        else:\n",
    "            changing.append(group[i])\n",
    "    return changing"
   ]
  },
  {
   "cell_type": "code",
   "execution_count": 7,
   "metadata": {},
   "outputs": [],
   "source": [
    "from utils import *\n",
    "import networkx as nx\n",
    "bns(nx.Graph(),'try1')"
   ]
  },
  {
   "cell_type": "code",
   "execution_count": null,
   "metadata": {},
   "outputs": [],
   "source": [
    "diffs = []\n",
    "diff_sets = []\n",
    "for att in atts:\n",
    "    diff = []\n",
    "    diff_set = set()\n",
    "    for i in range(len(att)-1):\n",
    "        changed = abs(att[i+1]-att[i])\n",
    "        #print(changed.shape)\n",
    "        arr_changed = np.squeeze(np.argwhere(changed>0))\n",
    "        set_changed = set(list(arr_changed))\n",
    "        diff.append(arr_changed)\n",
    "        diff_set = set.union(diff_set,set_changed)\n",
    "    changed = abs(att[0]-att[len(att)-1])\n",
    "    arr_changed = np.squeeze(np.argwhere(changed>0))\n",
    "    set_changed = set(list(arr_changed))\n",
    "    diff.append(arr_changed)\n",
    "    diff_set = set.union(diff_set,set_changed)\n",
    "    #print(len(diff_set))\n",
    "    diffs.append(diff)\n",
    "    diff_sets.append(diff_set)"
   ]
  },
  {
   "cell_type": "code",
   "execution_count": 8,
   "metadata": {},
   "outputs": [],
   "source": [
    "from bns import *\n",
    "atts,sz = attractors_from_txt('att_reach_simp')\n",
    "arr_diffs = []\n",
    "for att in atts:\n",
    "    for i in range(len(att)-1):\n",
    "        changed = abs(att[i+1]-att[i])     \n",
    "        arr_diffs.append(changed)\n",
    "    changed = abs(att[0]-att[len(att)-1])\n",
    "    arr_diffs.append(changed)\n",
    "arr_diffs = np.array(arr_diffs)\n",
    "freq = np.sum(arr_diffs,axis=0)\n",
    "np.save('att_reach_simp.npy',att)\n",
    "np.save('arr_diffs.npy',arr_diffs)\n",
    "np.save('freq.npy',freq)"
   ]
  },
  {
   "cell_type": "code",
   "execution_count": 9,
   "metadata": {},
   "outputs": [],
   "source": [
    "import csv\n",
    "freq = np.sum(arr_diffs,axis=0)\n",
    "rsnodes = sorted(list(np.load('nodes_reach_simp.npy',allow_pickle=True)))\n",
    "\n",
    "# 1. 创建文件对象\n",
    "f = open('freq.csv','w',encoding='utf-8')\n",
    "# 2. 基于文件对象构建 csv写入对象\n",
    "csv_writer = csv.writer(f)\n",
    "# 3. 构建列表头\n",
    "csv_writer.writerow(np.arange(0,876,1))\n",
    "csv_writer.writerow(rsnodes)\n",
    "csv_writer.writerow(freq)\n",
    "f.close()\n"
   ]
  },
  {
   "cell_type": "code",
   "execution_count": 4,
   "metadata": {},
   "outputs": [
    {
     "ename": "TypeError",
     "evalue": "'numpy.float64' object is not iterable",
     "output_type": "error",
     "traceback": [
      "\u001b[1;31m---------------------------------------------------------------------------\u001b[0m",
      "\u001b[1;31mTypeError\u001b[0m                                 Traceback (most recent call last)",
      "\u001b[1;32m<ipython-input-4-3fe91ee4c3ae>\u001b[0m in \u001b[0;36m<module>\u001b[1;34m()\u001b[0m\n\u001b[0;32m      1\u001b[0m \u001b[0mfreq_dict\u001b[0m \u001b[1;33m=\u001b[0m \u001b[1;33m{\u001b[0m\u001b[1;33m}\u001b[0m\u001b[1;33m\u001b[0m\u001b[0m\n\u001b[1;32m----> 2\u001b[1;33m \u001b[1;32mfor\u001b[0m \u001b[0mx\u001b[0m \u001b[1;32min\u001b[0m \u001b[0mlist\u001b[0m\u001b[1;33m(\u001b[0m\u001b[0mfreq\u001b[0m\u001b[1;33m)\u001b[0m \u001b[1;33m:\u001b[0m\u001b[1;33m\u001b[0m\u001b[0m\n\u001b[0m\u001b[0;32m      3\u001b[0m     \u001b[0mfreq_dict\u001b[0m\u001b[1;33m[\u001b[0m\u001b[0mx\u001b[0m\u001b[1;33m]\u001b[0m \u001b[1;33m=\u001b[0m \u001b[0mfreq_dict\u001b[0m\u001b[1;33m.\u001b[0m\u001b[0mget\u001b[0m\u001b[1;33m(\u001b[0m\u001b[0mx\u001b[0m\u001b[1;33m,\u001b[0m \u001b[1;36m0\u001b[0m\u001b[1;33m)\u001b[0m \u001b[1;33m+\u001b[0m \u001b[1;36m1\u001b[0m\u001b[1;33m\u001b[0m\u001b[0m\n\u001b[0;32m      4\u001b[0m \u001b[1;33m\u001b[0m\u001b[0m\n\u001b[0;32m      5\u001b[0m \u001b[0mx\u001b[0m \u001b[1;33m=\u001b[0m \u001b[0mlist\u001b[0m\u001b[1;33m(\u001b[0m\u001b[0mfreq_dict\u001b[0m\u001b[1;33m.\u001b[0m\u001b[0mkeys\u001b[0m\u001b[1;33m(\u001b[0m\u001b[1;33m)\u001b[0m\u001b[1;33m)\u001b[0m\u001b[1;33m\u001b[0m\u001b[0m\n",
      "\u001b[1;31mTypeError\u001b[0m: 'numpy.float64' object is not iterable"
     ]
    }
   ],
   "source": [
    "freq_dict = {}\n",
    "for x in list(freq) :\n",
    "    freq_dict[x] = freq_dict.get(x, 0) + 1\n",
    "    \n",
    "x = list(freq_dict.keys())\n",
    "y = list(freq_dict.values())\n",
    "\n",
    "import matplotlib.pyplot as plt\n",
    "plt.figure()\n",
    "plt.scatter(x,y)\n",
    "plt.show()\n",
    "\n",
    "print(freq_dict[764010],freq_dict[763594],freq_dict[763178],freq_dict[762762])\n",
    "print(freq_dict[0])\n",
    "import pandas as pd\n",
    "df_freq = pd.DataFrame(data=freq,index=nodes,columns=['frequency'])\n",
    "df_freq.loc[nodes_rs2,:]"
   ]
  },
  {
   "cell_type": "code",
   "execution_count": null,
   "metadata": {},
   "outputs": [],
   "source": [
    "import networkx as nx\n",
    "G_r = nx.read_gml('reach_simp.gml')\n",
    "G_wcc = nx.read_gml('wcc.gml')\n",
    "sccs = sorted(nx.strongly_connected_components(G_r),key=len, reverse=True)\n",
    "\n",
    "print(sccs[0])\n",
    "changed_every_time = ['mdh','tpx','rbsC','cas1','casD','mhpR','crr','mhpA','recF','fdhF','hypB','gltT','mazG','narG','narK','fau','gspC']\n",
    "for node in changed_every_time:\n",
    "    \n",
    "    print(G_rs.out_degree(node))"
   ]
  }
 ],
 "metadata": {
  "kernelspec": {
   "display_name": "Python 3 (ipykernel)",
   "language": "python",
   "name": "python3"
  },
  "language_info": {
   "codemirror_mode": {
    "name": "ipython",
    "version": 3
   },
   "file_extension": ".py",
   "mimetype": "text/x-python",
   "name": "python",
   "nbconvert_exporter": "python",
   "pygments_lexer": "ipython3",
   "version": "3.9.16"
  }
 },
 "nbformat": 4,
 "nbformat_minor": 2
}
